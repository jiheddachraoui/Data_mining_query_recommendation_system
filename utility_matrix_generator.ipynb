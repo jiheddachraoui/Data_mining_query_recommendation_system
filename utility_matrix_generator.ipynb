{
 "cells": [
  {
   "cell_type": "code",
   "execution_count": 1,
   "metadata": {},
   "outputs": [],
   "source": [
    "import random\n",
    "import csv\n",
    "import time\n",
    "import pandas as pd\n",
    "import numpy as np\n",
    "from sklearn.metrics.pairwise import cosine_similarity\n",
    "from sklearn.metrics import mean_squared_error"
   ]
  },
  {
   "cell_type": "code",
   "execution_count": 2,
   "metadata": {},
   "outputs": [],
   "source": [
    "queries=pd.read_csv(\"./csv/queries.csv\",index_col=False)\n",
    "queriesIDs=queries['queryID'].values.tolist()\n",
    "queries=queries['query'].values.tolist()\n",
    "\n",
    "users = pd.read_csv(\"./csv/users.csv\",index_col=False)\n",
    "usersID=users['User_Id'].values.tolist()\n",
    "dataset=pd.read_csv(\"./csv/dataset.csv\",index_col=False)"
   ]
  },
  {
   "cell_type": "code",
   "execution_count": 3,
   "metadata": {},
   "outputs": [],
   "source": [
    "lii=[]\n",
    "for i in queries:\n",
    "    l={}\n",
    "    for x in i.split(','):\n",
    "        aux=x.split('=')\n",
    "        l.update({aux[0]:aux[1]})\n",
    "    lii.append(l)"
   ]
  },
  {
   "cell_type": "code",
   "execution_count": 4,
   "metadata": {},
   "outputs": [],
   "source": [
    "m=[]\n",
    "for query in lii:\n",
    "    for key in query.keys():\n",
    "        dataset1=dataset[dataset[key]==query[key]]\n",
    "    m.append(len(dataset1))  "
   ]
  },
  {
   "cell_type": "code",
   "execution_count": 5,
   "metadata": {},
   "outputs": [],
   "source": [
    "import random\n",
    "lu=list(range(2000))\n",
    "random.shuffle(lu)\n",
    "users={'type1':lu[:168], #0,1,10,more\n",
    "      'type2':lu[168:336], #1,10,more,0\n",
    "      'type3':lu[336:504], #more,10,1,0\n",
    "      'type4':lu[504:670], #0,10,more,1\n",
    "      'type5':lu[670:836], #0,more,10,1\n",
    "      'type6':lu[836:1002], #10,more,1,0\n",
    "      'type7':lu[1002:1168], #more,0,10,1\n",
    "      'type8':lu[1168:1334], #10,1,0,more\n",
    "      'type9':lu[1334:1500], #1,10,0,more\n",
    "      'type10':lu[1500:1666], #0,1,more,10\n",
    "      'type11':lu[1666:1832], #1,more,10,0\n",
    "      'type12':lu[1832:], #1,0,10,more\n",
    "      }\n",
    "user={}\n",
    "for key in users.keys():\n",
    "      for value in users[key]:\n",
    "            user.update({value:key})\n",
    "            "
   ]
  },
  {
   "cell_type": "code",
   "execution_count": 6,
   "metadata": {},
   "outputs": [],
   "source": [
    "pseudo_random_scores=np.zeros((2000,2000))\n",
    "for i in range(2000):\n",
    "    for j in range(2000):\n",
    "        if user[j]=='type1':\n",
    "            if m[i]==0: pseudo_random_scores[i,j]= random.randint(0, 25)\n",
    "            elif m[i]==1: pseudo_random_scores[i,j]= random.randint(26, 50)\n",
    "            elif (m[i]>1) and (m[i]<11)  : pseudo_random_scores[i,j]= random.randint(51, 75)\n",
    "            else: pseudo_random_scores[i,j]= random.randint(76, 100)\n",
    "        elif user[j]=='type2':\n",
    "            if m[i]==0: pseudo_random_scores[i,j]= random.randint(76, 100)\n",
    "            elif m[i]==1: pseudo_random_scores[i,j]= random.randint(0, 25)\n",
    "            elif (m[i]>1) and (m[i]<11)  : pseudo_random_scores[i,j]= random.randint(26, 50)\n",
    "            else: pseudo_random_scores[i,j]= random.randint(51, 75)\n",
    "        elif user[j]=='type3':\n",
    "            if m[i]==0: pseudo_random_scores[i,j]= random.randint(76, 100)\n",
    "            elif m[i]==1: pseudo_random_scores[i,j]= random.randint(51, 75)\n",
    "            elif (m[i]>1) and (m[i]<11)  : pseudo_random_scores[i,j]= random.randint(26, 50)\n",
    "            else: pseudo_random_scores[i,j]= random.randint(0, 25)\n",
    "        elif user[j]=='type4':\n",
    "            if m[i]==0: pseudo_random_scores[i,j]= random.randint(0, 25)\n",
    "            elif m[i]==1: pseudo_random_scores[i,j]= random.randint(76, 100)\n",
    "            elif (m[i]>1) and (m[i]<11)  : pseudo_random_scores[i,j]= random.randint(26, 50)\n",
    "            else: pseudo_random_scores[i,j]= random.randint(51, 75)\n",
    "        elif user[j]=='type5':\n",
    "            if m[i]==0: pseudo_random_scores[i,j]= random.randint(0, 25)\n",
    "            elif m[i]==1: pseudo_random_scores[i,j]= random.randint(0, 25)\n",
    "            elif (m[i]>1) and (m[i]<11)  : pseudo_random_scores[i,j]= random.randint(0, 25)\n",
    "            else: pseudo_random_scores[i,j]= random.randint(0, 25)\n",
    "        elif user[j]=='type6':\n",
    "            if m[i]==0: pseudo_random_scores[i,j]= random.randint(0, 25)\n",
    "            elif m[i]==1: pseudo_random_scores[i,j]= random.randint(76, 100)\n",
    "            elif (m[i]>1) and (m[i]<11)  : pseudo_random_scores[i,j]= random.randint(51, 75)\n",
    "            else: pseudo_random_scores[i,j]= random.randint(26, 50)\n",
    "        elif user[j]=='type7':\n",
    "            if m[i]==0: pseudo_random_scores[i,j]= random.randint(26, 50)\n",
    "            elif m[i]==1: pseudo_random_scores[i,j]= random.randint(76, 100)\n",
    "            elif (m[i]>1) and (m[i]<11)  : pseudo_random_scores[i,j]= random.randint(51, 75)\n",
    "            else: pseudo_random_scores[i,j]= random.randint(0, 25)\n",
    "        elif user[j]=='type8':\n",
    "            if m[i]==0: pseudo_random_scores[i,j]= random.randint(51, 75)\n",
    "            elif m[i]==1: pseudo_random_scores[i,j]= random.randint(26, 50)\n",
    "            elif (m[i]>1) and (m[i]<11)  : pseudo_random_scores[i,j]= random.randint(0, 25)\n",
    "            else: pseudo_random_scores[i,j]= random.randint(76, 100)\n",
    "        elif user[j]=='type9':\n",
    "            if m[i]==0: pseudo_random_scores[i,j]= random.randint(51, 75)\n",
    "            elif m[i]==1: pseudo_random_scores[i,j]= random.randint(0, 25)\n",
    "            elif (m[i]>1) and (m[i]<11)  : pseudo_random_scores[i,j]= random.randint(26, 50)\n",
    "            else: pseudo_random_scores[i,j]= random.randint(76, 100)\n",
    "        elif user[j]=='type10':\n",
    "            if m[i]==0: pseudo_random_scores[i,j]= random.randint(0, 25)\n",
    "            elif m[i]==1: pseudo_random_scores[i,j]= random.randint(26, 50)\n",
    "            elif (m[i]>1) and (m[i]<11)  : pseudo_random_scores[i,j]= random.randint(76, 100)\n",
    "            else: pseudo_random_scores[i,j]= random.randint(51, 75)\n",
    "        elif user[j]=='type11':\n",
    "            if m[i]==0: pseudo_random_scores[i,j]= random.randint(76, 100)\n",
    "            elif m[i]==1: pseudo_random_scores[i,j]= random.randint(0, 25)\n",
    "            elif (m[i]>1) and (m[i]<11)  : pseudo_random_scores[i,j]= random.randint(51, 75)\n",
    "            else: pseudo_random_scores[i,j]= random.randint(26, 50)\n",
    "        elif user[j]=='type12':\n",
    "            if m[i]==0: pseudo_random_scores[i,j]= random.randint(26,50)\n",
    "            elif m[i]==1: pseudo_random_scores[i,j]= random.randint(0, 25)\n",
    "            elif (m[i]>1) and (m[i]<11)  : pseudo_random_scores[i,j]= random.randint(51, 75)\n",
    "            else: pseudo_random_scores[i,j]= random.randint(76, 100)"
   ]
  },
  {
   "cell_type": "code",
   "execution_count": 7,
   "metadata": {},
   "outputs": [],
   "source": [
    "pseudo_random_scores=pseudo_random_scores.astype(str)\n",
    "mask = np.random.randint(0, 3, size=pseudo_random_scores.shape).astype(bool)\n",
    "pseudo_random_scores[np.logical_not(mask)] = \"\"\n",
    "PseudoRandomScoresdf=pd.DataFrame(pseudo_random_scores,columns=queriesIDs,index=usersID)\n",
    "PseudoRandomScoresdf.to_csv(\"./csv/pseudo_random_utility_matrix.csv\")"
   ]
  },
  {
   "cell_type": "code",
   "execution_count": 8,
   "metadata": {},
   "outputs": [],
   "source": [
    "MIN_VOTE, MAX_VOTE = 1, 100\n",
    "randomScores = np.random.randint(low=MIN_VOTE, high=MAX_VOTE, size=( len(usersID), len(queriesIDs))).astype(str)\n",
    "mask = np.random.randint(0,3, size=randomScores.shape).astype(bool)\n",
    "randomScores[np.logical_not(mask)] = \"\"\n",
    "randomScoresdf=pd.DataFrame(randomScores,columns=queriesIDs,index=usersID)\n",
    "randomScoresdf.to_csv(\"./csv/random_utility_matrix.csv\")"
   ]
  }
 ],
 "metadata": {
  "kernelspec": {
   "display_name": "Python 3",
   "language": "python",
   "name": "python3"
  },
  "language_info": {
   "codemirror_mode": {
    "name": "ipython",
    "version": 3
   },
   "file_extension": ".py",
   "mimetype": "text/x-python",
   "name": "python",
   "nbconvert_exporter": "python",
   "pygments_lexer": "ipython3",
   "version": "3.9.7"
  },
  "orig_nbformat": 4,
  "vscode": {
   "interpreter": {
    "hash": "8f8cf99212f81ad0c4765861267244807ee1c18364846cdce387b28994a977ba"
   }
  }
 },
 "nbformat": 4,
 "nbformat_minor": 2
}
