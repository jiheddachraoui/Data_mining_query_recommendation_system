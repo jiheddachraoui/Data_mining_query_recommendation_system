{
 "cells": [
  {
   "cell_type": "code",
   "execution_count": 67,
   "metadata": {},
   "outputs": [],
   "source": [
    "from utils import *\n",
    "import random\n",
    "import csv\n",
    "import time\n",
    "import pandas as pd\n",
    "import numpy as np\n",
    "from sklearn.metrics import mean_squared_error\n",
    "from math import sqrt"
   ]
  },
  {
   "cell_type": "code",
   "execution_count": 68,
   "metadata": {},
   "outputs": [],
   "source": [
    "def compute_query_score(query,utility_matrix,queries,usersID,k):\n",
    "    queriesIDs=queries['queryID'].values.tolist()\n",
    "    queries=queries['query'].values.tolist()\n",
    "    #get a set of queries\n",
    "    query_list=[]\n",
    "    for i in queries:\n",
    "        query={}\n",
    "        for x in i.split(','):\n",
    "            aux=x.split('=')\n",
    "            query.update({aux[0]:aux[1]})\n",
    "        query_list.append(query)\n",
    "    #compute query similarity \n",
    "    values_similarity=[]\n",
    "    for i in query_list:\n",
    "        values_similarity.append(jaccard_similarity(query.values(),i.values()))\n",
    "    values_similarity=np.array(values_similarity)\n",
    "    queriesIDs=np.array(queriesIDs)\n",
    "    #test if the query is already scored\n",
    "    if values_similarity.max()==1:\n",
    "        return utility_matrix[queriesIDs[values_similarity.argmax()]]\n",
    "    else:\n",
    "        #get the k nearest neighbor\n",
    "        values_similarity,queriesIDs=KNN(k,values_similarity,queriesIDs)\n",
    "        #compute scores\n",
    "        scores=(np.array(utility_matrix[queriesIDs])@values_similarity)/values_similarity.sum()\n",
    "    return pd.DataFrame(scores, index=usersID,columns=['Q2001'])"
   ]
  },
  {
   "cell_type": "code",
   "execution_count": 69,
   "metadata": {},
   "outputs": [],
   "source": [
    "um= pd.read_csv('csv\\\\predicted_utility_matrix.csv',index_col=0)\n",
    "users = pd.read_csv(\"./csv/users.csv\",index_col=False)\n",
    "usersID=users['User_Id'].values.tolist()\n",
    "dataset=pd.read_csv(\"./csv/dataset.csv\",index_col=False)\n"
   ]
  },
  {
   "cell_type": "code",
   "execution_count": 70,
   "metadata": {},
   "outputs": [],
   "source": [
    "def transfrom_query(query):\n",
    "    output={}\n",
    "    for x in query.split(','):\n",
    "            aux=x.split('=')\n",
    "            output.update({aux[0]:aux[1]})\n",
    "    return output"
   ]
  },
  {
   "cell_type": "code",
   "execution_count": 77,
   "metadata": {},
   "outputs": [
    {
     "ename": "KeyError",
     "evalue": "'Q2000'",
     "output_type": "error",
     "traceback": [
      "\u001b[1;31m---------------------------------------------------------------------------\u001b[0m",
      "\u001b[1;31mKeyError\u001b[0m                                  Traceback (most recent call last)",
      "File \u001b[1;32m~\\AppData\\Local\\Packages\\PythonSoftwareFoundation.Python.3.10_qbz5n2kfra8p0\\LocalCache\\local-packages\\Python310\\site-packages\\pandas\\core\\indexes\\base.py:3800\u001b[0m, in \u001b[0;36mIndex.get_loc\u001b[1;34m(self, key, method, tolerance)\u001b[0m\n\u001b[0;32m   3799\u001b[0m \u001b[39mtry\u001b[39;00m:\n\u001b[1;32m-> 3800\u001b[0m     \u001b[39mreturn\u001b[39;00m \u001b[39mself\u001b[39;49m\u001b[39m.\u001b[39;49m_engine\u001b[39m.\u001b[39;49mget_loc(casted_key)\n\u001b[0;32m   3801\u001b[0m \u001b[39mexcept\u001b[39;00m \u001b[39mKeyError\u001b[39;00m \u001b[39mas\u001b[39;00m err:\n",
      "File \u001b[1;32m~\\AppData\\Local\\Packages\\PythonSoftwareFoundation.Python.3.10_qbz5n2kfra8p0\\LocalCache\\local-packages\\Python310\\site-packages\\pandas\\_libs\\index.pyx:138\u001b[0m, in \u001b[0;36mpandas._libs.index.IndexEngine.get_loc\u001b[1;34m()\u001b[0m\n",
      "File \u001b[1;32m~\\AppData\\Local\\Packages\\PythonSoftwareFoundation.Python.3.10_qbz5n2kfra8p0\\LocalCache\\local-packages\\Python310\\site-packages\\pandas\\_libs\\index.pyx:165\u001b[0m, in \u001b[0;36mpandas._libs.index.IndexEngine.get_loc\u001b[1;34m()\u001b[0m\n",
      "File \u001b[1;32mpandas\\_libs\\hashtable_class_helper.pxi:5745\u001b[0m, in \u001b[0;36mpandas._libs.hashtable.PyObjectHashTable.get_item\u001b[1;34m()\u001b[0m\n",
      "File \u001b[1;32mpandas\\_libs\\hashtable_class_helper.pxi:5753\u001b[0m, in \u001b[0;36mpandas._libs.hashtable.PyObjectHashTable.get_item\u001b[1;34m()\u001b[0m\n",
      "\u001b[1;31mKeyError\u001b[0m: 'Q2000'",
      "\nThe above exception was the direct cause of the following exception:\n",
      "\u001b[1;31mKeyError\u001b[0m                                  Traceback (most recent call last)",
      "Cell \u001b[1;32mIn [77], line 6\u001b[0m\n\u001b[0;32m      4\u001b[0m \u001b[39mfor\u001b[39;00m i,Id \u001b[39min\u001b[39;00m \u001b[39menumerate\u001b[39m(queriesIDs):\n\u001b[0;32m      5\u001b[0m     query\u001b[39m=\u001b[39mtransfrom_query(queries[\u001b[39m'\u001b[39m\u001b[39mquery\u001b[39m\u001b[39m'\u001b[39m]\u001b[39m.\u001b[39miloc[i])\n\u001b[1;32m----> 6\u001b[0m     df\u001b[39m=\u001b[39mcompute_query_score(query,um\u001b[39m.\u001b[39;49mloc[:, \u001b[39m~\u001b[39;49mum\u001b[39m.\u001b[39;49mcolumns\u001b[39m.\u001b[39;49misin([Id])],queries,usersID,\u001b[39m400\u001b[39;49m)\n\u001b[0;32m      7\u001b[0m     rmse\u001b[39m+\u001b[39m\u001b[39m=\u001b[39msqrt(mean_squared_error(np\u001b[39m.\u001b[39marray(df),np\u001b[39m.\u001b[39marray(um[Id])))\n\u001b[0;32m      8\u001b[0m rmse\u001b[39m=\u001b[39mrmse\u001b[39m/\u001b[39m\u001b[39m2000\u001b[39m\n",
      "Cell \u001b[1;32mIn [68], line 20\u001b[0m, in \u001b[0;36mcompute_query_score\u001b[1;34m(query, utility_matrix, queries, usersID, k)\u001b[0m\n\u001b[0;32m     18\u001b[0m \u001b[39m#test if the query is already scored\u001b[39;00m\n\u001b[0;32m     19\u001b[0m \u001b[39mif\u001b[39;00m values_similarity\u001b[39m.\u001b[39mmax()\u001b[39m==\u001b[39m\u001b[39m1\u001b[39m:\n\u001b[1;32m---> 20\u001b[0m     \u001b[39mreturn\u001b[39;00m utility_matrix[queriesIDs[values_similarity\u001b[39m.\u001b[39;49margmax()]]\n\u001b[0;32m     21\u001b[0m \u001b[39melse\u001b[39;00m:\n\u001b[0;32m     22\u001b[0m     \u001b[39m#get the k nearest neighbor\u001b[39;00m\n\u001b[0;32m     23\u001b[0m     values_similarity,queriesIDs\u001b[39m=\u001b[39mKNN(k,values_similarity,queriesIDs)\n",
      "File \u001b[1;32m~\\AppData\\Local\\Packages\\PythonSoftwareFoundation.Python.3.10_qbz5n2kfra8p0\\LocalCache\\local-packages\\Python310\\site-packages\\pandas\\core\\frame.py:3805\u001b[0m, in \u001b[0;36mDataFrame.__getitem__\u001b[1;34m(self, key)\u001b[0m\n\u001b[0;32m   3803\u001b[0m \u001b[39mif\u001b[39;00m \u001b[39mself\u001b[39m\u001b[39m.\u001b[39mcolumns\u001b[39m.\u001b[39mnlevels \u001b[39m>\u001b[39m \u001b[39m1\u001b[39m:\n\u001b[0;32m   3804\u001b[0m     \u001b[39mreturn\u001b[39;00m \u001b[39mself\u001b[39m\u001b[39m.\u001b[39m_getitem_multilevel(key)\n\u001b[1;32m-> 3805\u001b[0m indexer \u001b[39m=\u001b[39m \u001b[39mself\u001b[39;49m\u001b[39m.\u001b[39;49mcolumns\u001b[39m.\u001b[39;49mget_loc(key)\n\u001b[0;32m   3806\u001b[0m \u001b[39mif\u001b[39;00m is_integer(indexer):\n\u001b[0;32m   3807\u001b[0m     indexer \u001b[39m=\u001b[39m [indexer]\n",
      "File \u001b[1;32m~\\AppData\\Local\\Packages\\PythonSoftwareFoundation.Python.3.10_qbz5n2kfra8p0\\LocalCache\\local-packages\\Python310\\site-packages\\pandas\\core\\indexes\\base.py:3802\u001b[0m, in \u001b[0;36mIndex.get_loc\u001b[1;34m(self, key, method, tolerance)\u001b[0m\n\u001b[0;32m   3800\u001b[0m     \u001b[39mreturn\u001b[39;00m \u001b[39mself\u001b[39m\u001b[39m.\u001b[39m_engine\u001b[39m.\u001b[39mget_loc(casted_key)\n\u001b[0;32m   3801\u001b[0m \u001b[39mexcept\u001b[39;00m \u001b[39mKeyError\u001b[39;00m \u001b[39mas\u001b[39;00m err:\n\u001b[1;32m-> 3802\u001b[0m     \u001b[39mraise\u001b[39;00m \u001b[39mKeyError\u001b[39;00m(key) \u001b[39mfrom\u001b[39;00m \u001b[39merr\u001b[39;00m\n\u001b[0;32m   3803\u001b[0m \u001b[39mexcept\u001b[39;00m \u001b[39mTypeError\u001b[39;00m:\n\u001b[0;32m   3804\u001b[0m     \u001b[39m# If we have a listlike key, _check_indexing_error will raise\u001b[39;00m\n\u001b[0;32m   3805\u001b[0m     \u001b[39m#  InvalidIndexError. Otherwise we fall through and re-raise\u001b[39;00m\n\u001b[0;32m   3806\u001b[0m     \u001b[39m#  the TypeError.\u001b[39;00m\n\u001b[0;32m   3807\u001b[0m     \u001b[39mself\u001b[39m\u001b[39m.\u001b[39m_check_indexing_error(key)\n",
      "\u001b[1;31mKeyError\u001b[0m: 'Q2000'"
     ]
    }
   ],
   "source": [
    "queries=pd.read_csv(\"./csv/queries.csv\",index_col=False)\n",
    "queriesIDs=um.columns\n",
    "rmse=0\n",
    "for i,Id in enumerate(queriesIDs):\n",
    "    query=transfrom_query(queries['query'].iloc[i])\n",
    "    df=compute_query_score(query,um.loc[:, ~um.columns.isin([Id])],queries,usersID,400)\n",
    "    rmse+=sqrt(mean_squared_error(np.array(df),np.array(um[Id])))\n",
    "rmse=rmse/2000"
   ]
  },
  {
   "cell_type": "code",
   "execution_count": 73,
   "metadata": {},
   "outputs": [],
   "source": [
    "new_query={'name':'Isa','city':'Trento','job':'Producer'}"
   ]
  },
  {
   "cell_type": "code",
   "execution_count": 76,
   "metadata": {},
   "outputs": [
    {
     "data": {
      "text/plain": [
       "U1       67.00\n",
       "U2       88.23\n",
       "U3        1.00\n",
       "U4       78.00\n",
       "U5       21.00\n",
       "         ...  \n",
       "U1996    86.95\n",
       "U1997    86.91\n",
       "U1998    87.49\n",
       "U1999    13.16\n",
       "U2000    63.21\n",
       "Name: Q2000, Length: 2000, dtype: float64"
      ]
     },
     "execution_count": 76,
     "metadata": {},
     "output_type": "execute_result"
    }
   ],
   "source": [
    "compute_query_score(new_query,um,queries,usersID,400)"
   ]
  },
  {
   "cell_type": "code",
   "execution_count": null,
   "metadata": {},
   "outputs": [],
   "source": []
  }
 ],
 "metadata": {
  "kernelspec": {
   "display_name": "Python 3",
   "language": "python",
   "name": "python3"
  },
  "language_info": {
   "codemirror_mode": {
    "name": "ipython",
    "version": 3
   },
   "file_extension": ".py",
   "mimetype": "text/x-python",
   "name": "python",
   "nbconvert_exporter": "python",
   "pygments_lexer": "ipython3",
   "version": "3.10.9"
  },
  "orig_nbformat": 4,
  "vscode": {
   "interpreter": {
    "hash": "180a8cf1fc48fa92a53c2d4bd1ff24d9f8e77dd7507839b4c169d20814ecdb3b"
   }
  }
 },
 "nbformat": 4,
 "nbformat_minor": 2
}
