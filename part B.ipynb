{
 "cells": [
  {
   "cell_type": "code",
   "execution_count": 134,
   "metadata": {},
   "outputs": [],
   "source": [
    "from utils import *\n",
    "import random\n",
    "import csv\n",
    "import time\n",
    "import pandas as pd\n",
    "import numpy as np\n",
    "from sklearn.metrics import mean_squared_error"
   ]
  },
  {
   "cell_type": "code",
   "execution_count": 130,
   "metadata": {},
   "outputs": [],
   "source": [
    "def compute_query_score(query,utility_matrix,queries,usersID,k):\n",
    "    queriesIDs=queries['queryID'].values.tolist()\n",
    "    queries=queries['query'].values.tolist()\n",
    "    #get a set of queries\n",
    "    query_list=[]\n",
    "    for i in queries:\n",
    "        query={}\n",
    "        for x in i.split(','):\n",
    "            aux=x.split('=')\n",
    "            query.update({aux[0]:aux[1]})\n",
    "        query_list.append(query)\n",
    "    #compute query similarity \n",
    "    values_similarity=[]\n",
    "    for i in query_list:\n",
    "        values_similarity.append(jaccard_similarity(query.values(),i.values()))\n",
    "    values_similarity=np.array(values_similarity)\n",
    "    queriesIDs=np.array(queriesIDs)\n",
    "    #test if the query is already scored\n",
    "    if values_similarity.max()==1:\n",
    "        return utility_matrix[queriesIDs[values_similarity.argmax()]]\n",
    "    else:\n",
    "        #get the k nearest neighbor\n",
    "        values_similarity,queriesIDs=KNN(k,values_similarity,queriesIDs)\n",
    "        #compute scores\n",
    "        scores=(np.array(utility_matrix[queriesIDs])@values_similarity)/values_similarity.sum()\n",
    "    return pd.DataFrame(scores, index=usersID,columns=['Q2001'])"
   ]
  },
  {
   "cell_type": "code",
   "execution_count": 107,
   "metadata": {},
   "outputs": [],
   "source": [
    "um= pd.read_csv('csv\\\\predicted_utility_matrix.csv',index_col=0)\n",
    "queries=pd.read_csv(\"./csv/queries.csv\",index_col=False)\n",
    "queriesIDs=queries['queryID'].values.tolist()\n",
    "queries=queries['query'].values.tolist()\n",
    "users = pd.read_csv(\"./csv/users.csv\",index_col=False)\n",
    "usersID=users['Used_Id'].values.tolist()\n",
    "dataset=pd.read_csv(\"./csv/dataset.csv\",index_col=False)\n"
   ]
  },
  {
   "cell_type": "code",
   "execution_count": 108,
   "metadata": {},
   "outputs": [],
   "source": [
    "def transfrom_query(query):\n",
    "    output={}\n",
    "    for x in query.split(','):\n",
    "            aux=x.split('=')\n",
    "            output.update({aux[0]:aux[1]})\n",
    "    return output"
   ]
  },
  {
   "cell_type": "code",
   "execution_count": 114,
   "metadata": {},
   "outputs": [],
   "source": [
    "columns=um.columns\n",
    "queries_IDs_to_test = columns[np.random.choice(range(2000), size=(50), replace=False)]\n",
    "queries_to_test=um[queries_IDs_to_test]\n",
    "data_to_test_with=um.loc[:, ~um.columns.isin(queries_IDs_to_test)]\n",
    "allqueries=pd.read_csv(\"./csv/queries.csv\",index_col=False)\n",
    "queriesID=data_to_test_with.columns\n",
    "queries=allqueries[allqueries['queryID'].isin(queriesID)]\n",
    "allaqueries=allqueries['query']"
   ]
  },
  {
   "cell_type": "code",
   "execution_count": 115,
   "metadata": {},
   "outputs": [
    {
     "name": "stdout",
     "output_type": "stream",
     "text": [
      "Q1569 45.66\n",
      "Q24 24.18\n",
      "Q1175 24.0\n",
      "Q1817 24.2\n",
      "Q191 30.9\n",
      "Q1885 38.58\n",
      "Q146 45.65\n",
      "Q710 38.38\n",
      "Q412 10.46\n",
      "Q1474 38.81\n",
      "Q299 25.26\n",
      "Q1728 38.4\n",
      "Q1843 23.9\n",
      "Q842 51.46\n",
      "Q705 51.42\n",
      "Q760 47.98\n",
      "Q1308 41.14\n",
      "Q1865 48.15\n",
      "Q153 23.79\n",
      "Q1571 25.17\n",
      "Q1355 24.13\n",
      "Q1506 45.62\n",
      "Q568 40.57\n",
      "Q1087 23.74\n",
      "Q518 45.94\n",
      "Q253 41.31\n",
      "Q919 51.29\n",
      "Q1467 40.68\n",
      "Q1113 30.71\n",
      "Q719 10.46\n",
      "Q1607 25.29\n",
      "Q1585 25.27\n",
      "Q1622 10.32\n",
      "Q800 25.06\n",
      "Q62 38.75\n",
      "Q1301 51.13\n",
      "Q87 40.94\n",
      "Q1683 25.1\n",
      "Q1243 30.46\n",
      "Q1891 23.89\n",
      "Q348 48.16\n",
      "Q932 24.35\n",
      "Q1495 24.14\n",
      "Q1142 30.72\n",
      "Q1544 38.68\n",
      "Q754 45.61\n",
      "Q1182 51.78\n",
      "Q1729 10.17\n",
      "Q1963 41.16\n",
      "Q782 51.48\n"
     ]
    }
   ],
   "source": [
    "from sklearn.metrics import mean_squared_error\n",
    "from math import sqrt\n",
    "rmse=0\n",
    "for Id in queries_IDs_to_test:\n",
    "    query=transfrom_query(allaqueries[queriesIDs.index(Id)])\n",
    "    df=compute_query_score(query,data_to_test_with,queries,usersID)\n",
    "    print(Id,round(sqrt(mean_squared_error(np.array(df),np.array(queries_to_test[Id]))),2))\n",
    "    rmse+=sqrt(mean_squared_error(np.array(df),np.array(queries_to_test[Id])))\n",
    "rmse=rmse/2000"
   ]
  }
 ],
 "metadata": {
  "kernelspec": {
   "display_name": "Python 3",
   "language": "python",
   "name": "python3"
  },
  "language_info": {
   "codemirror_mode": {
    "name": "ipython",
    "version": 3
   },
   "file_extension": ".py",
   "mimetype": "text/x-python",
   "name": "python",
   "nbconvert_exporter": "python",
   "pygments_lexer": "ipython3",
   "version": "3.9.7"
  },
  "orig_nbformat": 4,
  "vscode": {
   "interpreter": {
    "hash": "8f8cf99212f81ad0c4765861267244807ee1c18364846cdce387b28994a977ba"
   }
  }
 },
 "nbformat": 4,
 "nbformat_minor": 2
}
